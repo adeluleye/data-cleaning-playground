{
 "cells": [
  {
   "cell_type": "code",
   "execution_count": 1,
   "metadata": {},
   "outputs": [],
   "source": [
    "import numpy as np\n",
    "import pandas as pd\n",
    "import seaborn as sns\n",
    "import matplotlib.pyplot as plt\n",
    "%matplotlib inline"
   ]
  },
  {
   "cell_type": "code",
   "execution_count": 2,
   "metadata": {},
   "outputs": [
    {
     "data": {
      "text/html": [
       "<div>\n",
       "<style scoped>\n",
       "    .dataframe tbody tr th:only-of-type {\n",
       "        vertical-align: middle;\n",
       "    }\n",
       "\n",
       "    .dataframe tbody tr th {\n",
       "        vertical-align: top;\n",
       "    }\n",
       "\n",
       "    .dataframe thead th {\n",
       "        text-align: right;\n",
       "    }\n",
       "</style>\n",
       "<table border=\"1\" class=\"dataframe\">\n",
       "  <thead>\n",
       "    <tr style=\"text-align: right;\">\n",
       "      <th></th>\n",
       "      <th>pclass</th>\n",
       "      <th>survived</th>\n",
       "      <th>name</th>\n",
       "      <th>sex</th>\n",
       "      <th>age</th>\n",
       "      <th>sibsp</th>\n",
       "      <th>parch</th>\n",
       "      <th>ticket</th>\n",
       "      <th>fare</th>\n",
       "      <th>cabin</th>\n",
       "      <th>embarked</th>\n",
       "      <th>boat</th>\n",
       "      <th>body</th>\n",
       "      <th>home.dest</th>\n",
       "    </tr>\n",
       "  </thead>\n",
       "  <tbody>\n",
       "    <tr>\n",
       "      <th>0</th>\n",
       "      <td>1.0</td>\n",
       "      <td>1.0</td>\n",
       "      <td>Allen, Miss. Elisabeth Walton</td>\n",
       "      <td>female</td>\n",
       "      <td>29.0000</td>\n",
       "      <td>0.0</td>\n",
       "      <td>0.0</td>\n",
       "      <td>24160</td>\n",
       "      <td>211.3375</td>\n",
       "      <td>B5</td>\n",
       "      <td>S</td>\n",
       "      <td>2</td>\n",
       "      <td>NaN</td>\n",
       "      <td>St Louis, MO</td>\n",
       "    </tr>\n",
       "    <tr>\n",
       "      <th>1</th>\n",
       "      <td>1.0</td>\n",
       "      <td>1.0</td>\n",
       "      <td>Allison, Master. Hudson Trevor</td>\n",
       "      <td>male</td>\n",
       "      <td>0.9167</td>\n",
       "      <td>1.0</td>\n",
       "      <td>2.0</td>\n",
       "      <td>113781</td>\n",
       "      <td>151.5500</td>\n",
       "      <td>C22 C26</td>\n",
       "      <td>S</td>\n",
       "      <td>11</td>\n",
       "      <td>NaN</td>\n",
       "      <td>Montreal, PQ / Chesterville, ON</td>\n",
       "    </tr>\n",
       "    <tr>\n",
       "      <th>2</th>\n",
       "      <td>1.0</td>\n",
       "      <td>0.0</td>\n",
       "      <td>Allison, Miss. Helen Loraine</td>\n",
       "      <td>female</td>\n",
       "      <td>2.0000</td>\n",
       "      <td>1.0</td>\n",
       "      <td>2.0</td>\n",
       "      <td>113781</td>\n",
       "      <td>151.5500</td>\n",
       "      <td>C22 C26</td>\n",
       "      <td>S</td>\n",
       "      <td>NaN</td>\n",
       "      <td>NaN</td>\n",
       "      <td>Montreal, PQ / Chesterville, ON</td>\n",
       "    </tr>\n",
       "    <tr>\n",
       "      <th>3</th>\n",
       "      <td>1.0</td>\n",
       "      <td>0.0</td>\n",
       "      <td>Allison, Mr. Hudson Joshua Creighton</td>\n",
       "      <td>male</td>\n",
       "      <td>30.0000</td>\n",
       "      <td>1.0</td>\n",
       "      <td>2.0</td>\n",
       "      <td>113781</td>\n",
       "      <td>151.5500</td>\n",
       "      <td>C22 C26</td>\n",
       "      <td>S</td>\n",
       "      <td>NaN</td>\n",
       "      <td>135.0</td>\n",
       "      <td>Montreal, PQ / Chesterville, ON</td>\n",
       "    </tr>\n",
       "    <tr>\n",
       "      <th>4</th>\n",
       "      <td>1.0</td>\n",
       "      <td>0.0</td>\n",
       "      <td>Allison, Mrs. Hudson J C (Bessie Waldo Daniels)</td>\n",
       "      <td>female</td>\n",
       "      <td>25.0000</td>\n",
       "      <td>1.0</td>\n",
       "      <td>2.0</td>\n",
       "      <td>113781</td>\n",
       "      <td>151.5500</td>\n",
       "      <td>C22 C26</td>\n",
       "      <td>S</td>\n",
       "      <td>NaN</td>\n",
       "      <td>NaN</td>\n",
       "      <td>Montreal, PQ / Chesterville, ON</td>\n",
       "    </tr>\n",
       "  </tbody>\n",
       "</table>\n",
       "</div>"
      ],
      "text/plain": [
       "   pclass  survived                                             name     sex  \\\n",
       "0     1.0       1.0                    Allen, Miss. Elisabeth Walton  female   \n",
       "1     1.0       1.0                   Allison, Master. Hudson Trevor    male   \n",
       "2     1.0       0.0                     Allison, Miss. Helen Loraine  female   \n",
       "3     1.0       0.0             Allison, Mr. Hudson Joshua Creighton    male   \n",
       "4     1.0       0.0  Allison, Mrs. Hudson J C (Bessie Waldo Daniels)  female   \n",
       "\n",
       "       age  sibsp  parch  ticket      fare    cabin embarked boat   body  \\\n",
       "0  29.0000    0.0    0.0   24160  211.3375       B5        S    2    NaN   \n",
       "1   0.9167    1.0    2.0  113781  151.5500  C22 C26        S   11    NaN   \n",
       "2   2.0000    1.0    2.0  113781  151.5500  C22 C26        S  NaN    NaN   \n",
       "3  30.0000    1.0    2.0  113781  151.5500  C22 C26        S  NaN  135.0   \n",
       "4  25.0000    1.0    2.0  113781  151.5500  C22 C26        S  NaN    NaN   \n",
       "\n",
       "                         home.dest  \n",
       "0                     St Louis, MO  \n",
       "1  Montreal, PQ / Chesterville, ON  \n",
       "2  Montreal, PQ / Chesterville, ON  \n",
       "3  Montreal, PQ / Chesterville, ON  \n",
       "4  Montreal, PQ / Chesterville, ON  "
      ]
     },
     "execution_count": 2,
     "metadata": {},
     "output_type": "execute_result"
    }
   ],
   "source": [
    "df = pd.read_csv('titanic_original.csv')\n",
    "df.head()"
   ]
  },
  {
   "cell_type": "code",
   "execution_count": 3,
   "metadata": {},
   "outputs": [
    {
     "data": {
      "text/plain": [
       "Index(['pclass', 'survived', 'name', 'sex', 'age', 'sibsp', 'parch', 'ticket',\n",
       "       'fare', 'cabin', 'embarked', 'boat', 'body', 'home.dest'],\n",
       "      dtype='object')"
      ]
     },
     "execution_count": 3,
     "metadata": {},
     "output_type": "execute_result"
    }
   ],
   "source": [
    "df.columns"
   ]
  },
  {
   "cell_type": "code",
   "execution_count": 4,
   "metadata": {},
   "outputs": [
    {
     "data": {
      "text/plain": [
       "pclass          1\n",
       "survived        1\n",
       "name            1\n",
       "sex             1\n",
       "age           264\n",
       "sibsp           1\n",
       "parch           1\n",
       "ticket          1\n",
       "fare            2\n",
       "cabin        1015\n",
       "embarked        3\n",
       "boat          824\n",
       "body         1189\n",
       "home.dest     565\n",
       "dtype: int64"
      ]
     },
     "execution_count": 4,
     "metadata": {},
     "output_type": "execute_result"
    }
   ],
   "source": [
    "df.isnull().sum()"
   ]
  },
  {
   "cell_type": "markdown",
   "metadata": {},
   "source": [
    "# Fill the missing age values with mean"
   ]
  },
  {
   "cell_type": "code",
   "execution_count": 5,
   "metadata": {},
   "outputs": [
    {
     "data": {
      "text/plain": [
       "0       29.0000\n",
       "1        0.9167\n",
       "2        2.0000\n",
       "3       30.0000\n",
       "4       25.0000\n",
       "5       48.0000\n",
       "6       63.0000\n",
       "7       39.0000\n",
       "8       53.0000\n",
       "9       71.0000\n",
       "10      47.0000\n",
       "11      18.0000\n",
       "12      24.0000\n",
       "13      26.0000\n",
       "14      80.0000\n",
       "15          NaN\n",
       "16      24.0000\n",
       "17      50.0000\n",
       "18      32.0000\n",
       "19      36.0000\n",
       "20      37.0000\n",
       "21      47.0000\n",
       "22      26.0000\n",
       "23      42.0000\n",
       "24      29.0000\n",
       "25      25.0000\n",
       "26      25.0000\n",
       "27      19.0000\n",
       "28      35.0000\n",
       "29      28.0000\n",
       "         ...   \n",
       "1280    22.0000\n",
       "1281    22.0000\n",
       "1282        NaN\n",
       "1283        NaN\n",
       "1284        NaN\n",
       "1285    32.5000\n",
       "1286    38.0000\n",
       "1287    51.0000\n",
       "1288    18.0000\n",
       "1289    21.0000\n",
       "1290    47.0000\n",
       "1291        NaN\n",
       "1292        NaN\n",
       "1293        NaN\n",
       "1294    28.5000\n",
       "1295    21.0000\n",
       "1296    27.0000\n",
       "1297        NaN\n",
       "1298    36.0000\n",
       "1299    27.0000\n",
       "1300    15.0000\n",
       "1301    45.5000\n",
       "1302        NaN\n",
       "1303        NaN\n",
       "1304    14.5000\n",
       "1305        NaN\n",
       "1306    26.5000\n",
       "1307    27.0000\n",
       "1308    29.0000\n",
       "1309        NaN\n",
       "Name: age, Length: 1310, dtype: float64"
      ]
     },
     "execution_count": 5,
     "metadata": {},
     "output_type": "execute_result"
    }
   ],
   "source": [
    "df['age']"
   ]
  },
  {
   "cell_type": "code",
   "execution_count": 6,
   "metadata": {},
   "outputs": [],
   "source": [
    "df_with_age_mean = df.age.fillna(df['age'].mean())"
   ]
  },
  {
   "cell_type": "code",
   "execution_count": 7,
   "metadata": {},
   "outputs": [
    {
     "data": {
      "text/plain": [
       "0       29.000000\n",
       "1        0.916700\n",
       "2        2.000000\n",
       "3       30.000000\n",
       "4       25.000000\n",
       "5       48.000000\n",
       "6       63.000000\n",
       "7       39.000000\n",
       "8       53.000000\n",
       "9       71.000000\n",
       "10      47.000000\n",
       "11      18.000000\n",
       "12      24.000000\n",
       "13      26.000000\n",
       "14      80.000000\n",
       "15      29.881135\n",
       "16      24.000000\n",
       "17      50.000000\n",
       "18      32.000000\n",
       "19      36.000000\n",
       "20      37.000000\n",
       "21      47.000000\n",
       "22      26.000000\n",
       "23      42.000000\n",
       "24      29.000000\n",
       "25      25.000000\n",
       "26      25.000000\n",
       "27      19.000000\n",
       "28      35.000000\n",
       "29      28.000000\n",
       "          ...    \n",
       "1280    22.000000\n",
       "1281    22.000000\n",
       "1282    29.881135\n",
       "1283    29.881135\n",
       "1284    29.881135\n",
       "1285    32.500000\n",
       "1286    38.000000\n",
       "1287    51.000000\n",
       "1288    18.000000\n",
       "1289    21.000000\n",
       "1290    47.000000\n",
       "1291    29.881135\n",
       "1292    29.881135\n",
       "1293    29.881135\n",
       "1294    28.500000\n",
       "1295    21.000000\n",
       "1296    27.000000\n",
       "1297    29.881135\n",
       "1298    36.000000\n",
       "1299    27.000000\n",
       "1300    15.000000\n",
       "1301    45.500000\n",
       "1302    29.881135\n",
       "1303    29.881135\n",
       "1304    14.500000\n",
       "1305    29.881135\n",
       "1306    26.500000\n",
       "1307    27.000000\n",
       "1308    29.000000\n",
       "1309    29.881135\n",
       "Name: age, Length: 1310, dtype: float64"
      ]
     },
     "execution_count": 7,
     "metadata": {},
     "output_type": "execute_result"
    }
   ],
   "source": [
    "df_with_age_mean"
   ]
  },
  {
   "cell_type": "code",
   "execution_count": 8,
   "metadata": {},
   "outputs": [
    {
     "data": {
      "text/plain": [
       "pclass          1\n",
       "survived        1\n",
       "name            1\n",
       "sex             1\n",
       "age           264\n",
       "sibsp           1\n",
       "parch           1\n",
       "ticket          1\n",
       "fare            2\n",
       "cabin        1015\n",
       "embarked        3\n",
       "boat          824\n",
       "body         1189\n",
       "home.dest     565\n",
       "dtype: int64"
      ]
     },
     "execution_count": 8,
     "metadata": {},
     "output_type": "execute_result"
    }
   ],
   "source": [
    "df.isnull().sum()"
   ]
  },
  {
   "cell_type": "code",
   "execution_count": 9,
   "metadata": {},
   "outputs": [
    {
     "data": {
      "text/plain": [
       "0"
      ]
     },
     "execution_count": 9,
     "metadata": {},
     "output_type": "execute_result"
    }
   ],
   "source": [
    "df_with_age_mean.isnull().sum()"
   ]
  },
  {
   "cell_type": "code",
   "execution_count": 10,
   "metadata": {},
   "outputs": [
    {
     "data": {
      "text/plain": [
       "(1310, 14)"
      ]
     },
     "execution_count": 10,
     "metadata": {},
     "output_type": "execute_result"
    }
   ],
   "source": [
    "df.shape"
   ]
  },
  {
   "cell_type": "code",
   "execution_count": 11,
   "metadata": {},
   "outputs": [
    {
     "data": {
      "text/plain": [
       "(0, 14)"
      ]
     },
     "execution_count": 11,
     "metadata": {},
     "output_type": "execute_result"
    }
   ],
   "source": [
    "df_drop = df.dropna()\n",
    "df_drop.shape"
   ]
  },
  {
   "cell_type": "code",
   "execution_count": 12,
   "metadata": {},
   "outputs": [
    {
     "data": {
      "text/plain": [
       "(1309, 14)"
      ]
     },
     "execution_count": 12,
     "metadata": {},
     "output_type": "execute_result"
    }
   ],
   "source": [
    "df_with_condition = df.dropna(how='any', thresh=4)\n",
    "df_with_condition.shape"
   ]
  },
  {
   "cell_type": "code",
   "execution_count": 13,
   "metadata": {},
   "outputs": [
    {
     "data": {
      "text/plain": [
       "pclass          0\n",
       "survived        0\n",
       "name            0\n",
       "sex             0\n",
       "age           263\n",
       "sibsp           0\n",
       "parch           0\n",
       "ticket          0\n",
       "fare            1\n",
       "cabin        1014\n",
       "embarked        2\n",
       "boat          823\n",
       "body         1188\n",
       "home.dest     564\n",
       "dtype: int64"
      ]
     },
     "execution_count": 13,
     "metadata": {},
     "output_type": "execute_result"
    }
   ],
   "source": [
    "df_with_condition.isnull().sum()"
   ]
  },
  {
   "cell_type": "code",
   "execution_count": 14,
   "metadata": {},
   "outputs": [
    {
     "data": {
      "text/html": [
       "<div>\n",
       "<style scoped>\n",
       "    .dataframe tbody tr th:only-of-type {\n",
       "        vertical-align: middle;\n",
       "    }\n",
       "\n",
       "    .dataframe tbody tr th {\n",
       "        vertical-align: top;\n",
       "    }\n",
       "\n",
       "    .dataframe thead th {\n",
       "        text-align: right;\n",
       "    }\n",
       "</style>\n",
       "<table border=\"1\" class=\"dataframe\">\n",
       "  <thead>\n",
       "    <tr style=\"text-align: right;\">\n",
       "      <th></th>\n",
       "      <th>pclass</th>\n",
       "      <th>survived</th>\n",
       "      <th>sex</th>\n",
       "      <th>age</th>\n",
       "      <th>sibsp</th>\n",
       "      <th>parch</th>\n",
       "      <th>ticket</th>\n",
       "      <th>fare</th>\n",
       "      <th>cabin</th>\n",
       "      <th>embarked</th>\n",
       "      <th>boat</th>\n",
       "      <th>body</th>\n",
       "      <th>home.dest</th>\n",
       "    </tr>\n",
       "  </thead>\n",
       "  <tbody>\n",
       "    <tr>\n",
       "      <th>0</th>\n",
       "      <td>1.0</td>\n",
       "      <td>1.0</td>\n",
       "      <td>female</td>\n",
       "      <td>29.0000</td>\n",
       "      <td>0.0</td>\n",
       "      <td>0.0</td>\n",
       "      <td>24160</td>\n",
       "      <td>211.3375</td>\n",
       "      <td>B5</td>\n",
       "      <td>S</td>\n",
       "      <td>2</td>\n",
       "      <td>NaN</td>\n",
       "      <td>St Louis, MO</td>\n",
       "    </tr>\n",
       "    <tr>\n",
       "      <th>1</th>\n",
       "      <td>1.0</td>\n",
       "      <td>1.0</td>\n",
       "      <td>male</td>\n",
       "      <td>0.9167</td>\n",
       "      <td>1.0</td>\n",
       "      <td>2.0</td>\n",
       "      <td>113781</td>\n",
       "      <td>151.5500</td>\n",
       "      <td>C22 C26</td>\n",
       "      <td>S</td>\n",
       "      <td>11</td>\n",
       "      <td>NaN</td>\n",
       "      <td>Montreal, PQ / Chesterville, ON</td>\n",
       "    </tr>\n",
       "    <tr>\n",
       "      <th>2</th>\n",
       "      <td>1.0</td>\n",
       "      <td>0.0</td>\n",
       "      <td>female</td>\n",
       "      <td>2.0000</td>\n",
       "      <td>1.0</td>\n",
       "      <td>2.0</td>\n",
       "      <td>113781</td>\n",
       "      <td>151.5500</td>\n",
       "      <td>C22 C26</td>\n",
       "      <td>S</td>\n",
       "      <td>NaN</td>\n",
       "      <td>NaN</td>\n",
       "      <td>Montreal, PQ / Chesterville, ON</td>\n",
       "    </tr>\n",
       "    <tr>\n",
       "      <th>3</th>\n",
       "      <td>1.0</td>\n",
       "      <td>0.0</td>\n",
       "      <td>male</td>\n",
       "      <td>30.0000</td>\n",
       "      <td>1.0</td>\n",
       "      <td>2.0</td>\n",
       "      <td>113781</td>\n",
       "      <td>151.5500</td>\n",
       "      <td>C22 C26</td>\n",
       "      <td>S</td>\n",
       "      <td>NaN</td>\n",
       "      <td>135.0</td>\n",
       "      <td>Montreal, PQ / Chesterville, ON</td>\n",
       "    </tr>\n",
       "    <tr>\n",
       "      <th>4</th>\n",
       "      <td>1.0</td>\n",
       "      <td>0.0</td>\n",
       "      <td>female</td>\n",
       "      <td>25.0000</td>\n",
       "      <td>1.0</td>\n",
       "      <td>2.0</td>\n",
       "      <td>113781</td>\n",
       "      <td>151.5500</td>\n",
       "      <td>C22 C26</td>\n",
       "      <td>S</td>\n",
       "      <td>NaN</td>\n",
       "      <td>NaN</td>\n",
       "      <td>Montreal, PQ / Chesterville, ON</td>\n",
       "    </tr>\n",
       "  </tbody>\n",
       "</table>\n",
       "</div>"
      ],
      "text/plain": [
       "   pclass  survived     sex      age  sibsp  parch  ticket      fare    cabin  \\\n",
       "0     1.0       1.0  female  29.0000    0.0    0.0   24160  211.3375       B5   \n",
       "1     1.0       1.0    male   0.9167    1.0    2.0  113781  151.5500  C22 C26   \n",
       "2     1.0       0.0  female   2.0000    1.0    2.0  113781  151.5500  C22 C26   \n",
       "3     1.0       0.0    male  30.0000    1.0    2.0  113781  151.5500  C22 C26   \n",
       "4     1.0       0.0  female  25.0000    1.0    2.0  113781  151.5500  C22 C26   \n",
       "\n",
       "  embarked boat   body                        home.dest  \n",
       "0        S    2    NaN                     St Louis, MO  \n",
       "1        S   11    NaN  Montreal, PQ / Chesterville, ON  \n",
       "2        S  NaN    NaN  Montreal, PQ / Chesterville, ON  \n",
       "3        S  NaN  135.0  Montreal, PQ / Chesterville, ON  \n",
       "4        S  NaN    NaN  Montreal, PQ / Chesterville, ON  "
      ]
     },
     "execution_count": 14,
     "metadata": {},
     "output_type": "execute_result"
    }
   ],
   "source": [
    "df.drop('name', axis=1, inplace=True)\n",
    "df.head()"
   ]
  },
  {
   "cell_type": "code",
   "execution_count": 15,
   "metadata": {},
   "outputs": [
    {
     "data": {
      "text/plain": [
       "(1310, 13)"
      ]
     },
     "execution_count": 15,
     "metadata": {},
     "output_type": "execute_result"
    }
   ],
   "source": [
    "df.shape"
   ]
  },
  {
   "cell_type": "code",
   "execution_count": 19,
   "metadata": {},
   "outputs": [
    {
     "data": {
      "text/plain": [
       "0       False\n",
       "1       False\n",
       "2        True\n",
       "3        True\n",
       "4        True\n",
       "5       False\n",
       "6       False\n",
       "7       False\n",
       "8       False\n",
       "9       False\n",
       "10      False\n",
       "11       True\n",
       "12      False\n",
       "13       True\n",
       "14      False\n",
       "15       True\n",
       "16      False\n",
       "17       True\n",
       "18      False\n",
       "19      False\n",
       "20      False\n",
       "21       True\n",
       "22      False\n",
       "23       True\n",
       "24      False\n",
       "25       True\n",
       "26      False\n",
       "27       True\n",
       "28      False\n",
       "29      False\n",
       "        ...  \n",
       "1280     True\n",
       "1281     True\n",
       "1282     True\n",
       "1283     True\n",
       "1284     True\n",
       "1285     True\n",
       "1286     True\n",
       "1287     True\n",
       "1288     True\n",
       "1289     True\n",
       "1290     True\n",
       "1291     True\n",
       "1292     True\n",
       "1293     True\n",
       "1294     True\n",
       "1295     True\n",
       "1296     True\n",
       "1297     True\n",
       "1298     True\n",
       "1299     True\n",
       "1300     True\n",
       "1301     True\n",
       "1302     True\n",
       "1303     True\n",
       "1304     True\n",
       "1305     True\n",
       "1306     True\n",
       "1307     True\n",
       "1308     True\n",
       "1309     True\n",
       "Length: 1310, dtype: bool"
      ]
     },
     "execution_count": 19,
     "metadata": {},
     "output_type": "execute_result"
    }
   ],
   "source": [
    "df.duplicated('cabin')"
   ]
  },
  {
   "cell_type": "code",
   "execution_count": 20,
   "metadata": {},
   "outputs": [
    {
     "data": {
      "text/plain": [
       "(1310, 13)"
      ]
     },
     "execution_count": 20,
     "metadata": {},
     "output_type": "execute_result"
    }
   ],
   "source": [
    "df.shape"
   ]
  },
  {
   "cell_type": "code",
   "execution_count": 23,
   "metadata": {},
   "outputs": [
    {
     "data": {
      "text/plain": [
       "(1289, 13)"
      ]
     },
     "execution_count": 23,
     "metadata": {},
     "output_type": "execute_result"
    }
   ],
   "source": [
    "df_drop_dup = df.drop_duplicates()\n",
    "df_drop_dup.shape"
   ]
  },
  {
   "cell_type": "code",
   "execution_count": 24,
   "metadata": {},
   "outputs": [
    {
     "data": {
      "text/plain": [
       "pclass       float64\n",
       "survived     float64\n",
       "sex           object\n",
       "age          float64\n",
       "sibsp        float64\n",
       "parch        float64\n",
       "ticket        object\n",
       "fare         float64\n",
       "cabin         object\n",
       "embarked      object\n",
       "boat          object\n",
       "body         float64\n",
       "home.dest     object\n",
       "dtype: object"
      ]
     },
     "execution_count": 24,
     "metadata": {},
     "output_type": "execute_result"
    }
   ],
   "source": [
    "df.dtypes"
   ]
  },
  {
   "cell_type": "code",
   "execution_count": 25,
   "metadata": {},
   "outputs": [
    {
     "data": {
      "text/plain": [
       "dtype('float64')"
      ]
     },
     "execution_count": 25,
     "metadata": {},
     "output_type": "execute_result"
    }
   ],
   "source": [
    "df.pclass.dtypes"
   ]
  },
  {
   "cell_type": "code",
   "execution_count": 28,
   "metadata": {},
   "outputs": [
    {
     "data": {
      "text/plain": [
       "dtype('float64')"
      ]
     },
     "execution_count": 28,
     "metadata": {},
     "output_type": "execute_result"
    }
   ],
   "source": [
    "df.age.astype(float).dtypes"
   ]
  },
  {
   "cell_type": "code",
   "execution_count": 29,
   "metadata": {},
   "outputs": [
    {
     "data": {
      "text/html": [
       "<div>\n",
       "<style scoped>\n",
       "    .dataframe tbody tr th:only-of-type {\n",
       "        vertical-align: middle;\n",
       "    }\n",
       "\n",
       "    .dataframe tbody tr th {\n",
       "        vertical-align: top;\n",
       "    }\n",
       "\n",
       "    .dataframe thead th {\n",
       "        text-align: right;\n",
       "    }\n",
       "</style>\n",
       "<table border=\"1\" class=\"dataframe\">\n",
       "  <thead>\n",
       "    <tr style=\"text-align: right;\">\n",
       "      <th></th>\n",
       "      <th>pclass</th>\n",
       "      <th>survived</th>\n",
       "      <th>sex</th>\n",
       "      <th>age</th>\n",
       "      <th>sibsp</th>\n",
       "      <th>parch</th>\n",
       "      <th>ticket</th>\n",
       "      <th>fare</th>\n",
       "      <th>cabin</th>\n",
       "      <th>embarked</th>\n",
       "      <th>boat</th>\n",
       "      <th>body</th>\n",
       "      <th>home.dest</th>\n",
       "    </tr>\n",
       "  </thead>\n",
       "  <tbody>\n",
       "    <tr>\n",
       "      <th>1305</th>\n",
       "      <td>3.0</td>\n",
       "      <td>0.0</td>\n",
       "      <td>female</td>\n",
       "      <td>NaN</td>\n",
       "      <td>1.0</td>\n",
       "      <td>0.0</td>\n",
       "      <td>2665</td>\n",
       "      <td>14.4542</td>\n",
       "      <td>NaN</td>\n",
       "      <td>C</td>\n",
       "      <td>NaN</td>\n",
       "      <td>NaN</td>\n",
       "      <td>NaN</td>\n",
       "    </tr>\n",
       "    <tr>\n",
       "      <th>1306</th>\n",
       "      <td>3.0</td>\n",
       "      <td>0.0</td>\n",
       "      <td>male</td>\n",
       "      <td>26.5</td>\n",
       "      <td>0.0</td>\n",
       "      <td>0.0</td>\n",
       "      <td>2656</td>\n",
       "      <td>7.2250</td>\n",
       "      <td>NaN</td>\n",
       "      <td>C</td>\n",
       "      <td>NaN</td>\n",
       "      <td>304.0</td>\n",
       "      <td>NaN</td>\n",
       "    </tr>\n",
       "    <tr>\n",
       "      <th>1307</th>\n",
       "      <td>3.0</td>\n",
       "      <td>0.0</td>\n",
       "      <td>male</td>\n",
       "      <td>27.0</td>\n",
       "      <td>0.0</td>\n",
       "      <td>0.0</td>\n",
       "      <td>2670</td>\n",
       "      <td>7.2250</td>\n",
       "      <td>NaN</td>\n",
       "      <td>C</td>\n",
       "      <td>NaN</td>\n",
       "      <td>NaN</td>\n",
       "      <td>NaN</td>\n",
       "    </tr>\n",
       "    <tr>\n",
       "      <th>1308</th>\n",
       "      <td>3.0</td>\n",
       "      <td>0.0</td>\n",
       "      <td>male</td>\n",
       "      <td>29.0</td>\n",
       "      <td>0.0</td>\n",
       "      <td>0.0</td>\n",
       "      <td>315082</td>\n",
       "      <td>7.8750</td>\n",
       "      <td>NaN</td>\n",
       "      <td>S</td>\n",
       "      <td>NaN</td>\n",
       "      <td>NaN</td>\n",
       "      <td>NaN</td>\n",
       "    </tr>\n",
       "    <tr>\n",
       "      <th>1309</th>\n",
       "      <td>NaN</td>\n",
       "      <td>NaN</td>\n",
       "      <td>NaN</td>\n",
       "      <td>NaN</td>\n",
       "      <td>NaN</td>\n",
       "      <td>NaN</td>\n",
       "      <td>NaN</td>\n",
       "      <td>NaN</td>\n",
       "      <td>NaN</td>\n",
       "      <td>NaN</td>\n",
       "      <td>NaN</td>\n",
       "      <td>NaN</td>\n",
       "      <td>NaN</td>\n",
       "    </tr>\n",
       "  </tbody>\n",
       "</table>\n",
       "</div>"
      ],
      "text/plain": [
       "      pclass  survived     sex   age  sibsp  parch  ticket     fare cabin  \\\n",
       "1305     3.0       0.0  female   NaN    1.0    0.0    2665  14.4542   NaN   \n",
       "1306     3.0       0.0    male  26.5    0.0    0.0    2656   7.2250   NaN   \n",
       "1307     3.0       0.0    male  27.0    0.0    0.0    2670   7.2250   NaN   \n",
       "1308     3.0       0.0    male  29.0    0.0    0.0  315082   7.8750   NaN   \n",
       "1309     NaN       NaN     NaN   NaN    NaN    NaN     NaN      NaN   NaN   \n",
       "\n",
       "     embarked boat   body home.dest  \n",
       "1305        C  NaN    NaN       NaN  \n",
       "1306        C  NaN  304.0       NaN  \n",
       "1307        C  NaN    NaN       NaN  \n",
       "1308        S  NaN    NaN       NaN  \n",
       "1309      NaN  NaN    NaN       NaN  "
      ]
     },
     "execution_count": 29,
     "metadata": {},
     "output_type": "execute_result"
    }
   ],
   "source": [
    "df.tail()"
   ]
  },
  {
   "cell_type": "code",
   "execution_count": 34,
   "metadata": {},
   "outputs": [],
   "source": [
    "df = df.dropna(how='all')"
   ]
  },
  {
   "cell_type": "code",
   "execution_count": 35,
   "metadata": {},
   "outputs": [
    {
     "data": {
      "text/html": [
       "<div>\n",
       "<style scoped>\n",
       "    .dataframe tbody tr th:only-of-type {\n",
       "        vertical-align: middle;\n",
       "    }\n",
       "\n",
       "    .dataframe tbody tr th {\n",
       "        vertical-align: top;\n",
       "    }\n",
       "\n",
       "    .dataframe thead th {\n",
       "        text-align: right;\n",
       "    }\n",
       "</style>\n",
       "<table border=\"1\" class=\"dataframe\">\n",
       "  <thead>\n",
       "    <tr style=\"text-align: right;\">\n",
       "      <th></th>\n",
       "      <th>pclass</th>\n",
       "      <th>survived</th>\n",
       "      <th>sex</th>\n",
       "      <th>age</th>\n",
       "      <th>sibsp</th>\n",
       "      <th>parch</th>\n",
       "      <th>ticket</th>\n",
       "      <th>fare</th>\n",
       "      <th>cabin</th>\n",
       "      <th>embarked</th>\n",
       "      <th>boat</th>\n",
       "      <th>body</th>\n",
       "      <th>home.dest</th>\n",
       "    </tr>\n",
       "  </thead>\n",
       "  <tbody>\n",
       "    <tr>\n",
       "      <th>1304</th>\n",
       "      <td>3.0</td>\n",
       "      <td>0.0</td>\n",
       "      <td>female</td>\n",
       "      <td>14.5</td>\n",
       "      <td>1.0</td>\n",
       "      <td>0.0</td>\n",
       "      <td>2665</td>\n",
       "      <td>14.4542</td>\n",
       "      <td>NaN</td>\n",
       "      <td>C</td>\n",
       "      <td>NaN</td>\n",
       "      <td>328.0</td>\n",
       "      <td>NaN</td>\n",
       "    </tr>\n",
       "    <tr>\n",
       "      <th>1305</th>\n",
       "      <td>3.0</td>\n",
       "      <td>0.0</td>\n",
       "      <td>female</td>\n",
       "      <td>NaN</td>\n",
       "      <td>1.0</td>\n",
       "      <td>0.0</td>\n",
       "      <td>2665</td>\n",
       "      <td>14.4542</td>\n",
       "      <td>NaN</td>\n",
       "      <td>C</td>\n",
       "      <td>NaN</td>\n",
       "      <td>NaN</td>\n",
       "      <td>NaN</td>\n",
       "    </tr>\n",
       "    <tr>\n",
       "      <th>1306</th>\n",
       "      <td>3.0</td>\n",
       "      <td>0.0</td>\n",
       "      <td>male</td>\n",
       "      <td>26.5</td>\n",
       "      <td>0.0</td>\n",
       "      <td>0.0</td>\n",
       "      <td>2656</td>\n",
       "      <td>7.2250</td>\n",
       "      <td>NaN</td>\n",
       "      <td>C</td>\n",
       "      <td>NaN</td>\n",
       "      <td>304.0</td>\n",
       "      <td>NaN</td>\n",
       "    </tr>\n",
       "    <tr>\n",
       "      <th>1307</th>\n",
       "      <td>3.0</td>\n",
       "      <td>0.0</td>\n",
       "      <td>male</td>\n",
       "      <td>27.0</td>\n",
       "      <td>0.0</td>\n",
       "      <td>0.0</td>\n",
       "      <td>2670</td>\n",
       "      <td>7.2250</td>\n",
       "      <td>NaN</td>\n",
       "      <td>C</td>\n",
       "      <td>NaN</td>\n",
       "      <td>NaN</td>\n",
       "      <td>NaN</td>\n",
       "    </tr>\n",
       "    <tr>\n",
       "      <th>1308</th>\n",
       "      <td>3.0</td>\n",
       "      <td>0.0</td>\n",
       "      <td>male</td>\n",
       "      <td>29.0</td>\n",
       "      <td>0.0</td>\n",
       "      <td>0.0</td>\n",
       "      <td>315082</td>\n",
       "      <td>7.8750</td>\n",
       "      <td>NaN</td>\n",
       "      <td>S</td>\n",
       "      <td>NaN</td>\n",
       "      <td>NaN</td>\n",
       "      <td>NaN</td>\n",
       "    </tr>\n",
       "  </tbody>\n",
       "</table>\n",
       "</div>"
      ],
      "text/plain": [
       "      pclass  survived     sex   age  sibsp  parch  ticket     fare cabin  \\\n",
       "1304     3.0       0.0  female  14.5    1.0    0.0    2665  14.4542   NaN   \n",
       "1305     3.0       0.0  female   NaN    1.0    0.0    2665  14.4542   NaN   \n",
       "1306     3.0       0.0    male  26.5    0.0    0.0    2656   7.2250   NaN   \n",
       "1307     3.0       0.0    male  27.0    0.0    0.0    2670   7.2250   NaN   \n",
       "1308     3.0       0.0    male  29.0    0.0    0.0  315082   7.8750   NaN   \n",
       "\n",
       "     embarked boat   body home.dest  \n",
       "1304        C  NaN  328.0       NaN  \n",
       "1305        C  NaN    NaN       NaN  \n",
       "1306        C  NaN  304.0       NaN  \n",
       "1307        C  NaN    NaN       NaN  \n",
       "1308        S  NaN    NaN       NaN  "
      ]
     },
     "execution_count": 35,
     "metadata": {},
     "output_type": "execute_result"
    }
   ],
   "source": [
    "df.tail()"
   ]
  },
  {
   "cell_type": "code",
   "execution_count": 36,
   "metadata": {},
   "outputs": [],
   "source": [
    "import zipfile as zp"
   ]
  },
  {
   "cell_type": "code",
   "execution_count": 37,
   "metadata": {},
   "outputs": [],
   "source": [
    "archive = zp.ZipFile('titanic_original.csv.zip', 'r')"
   ]
  },
  {
   "cell_type": "code",
   "execution_count": 43,
   "metadata": {},
   "outputs": [],
   "source": [
    "df_zip = archive.read('titanic_original.csv')"
   ]
  },
  {
   "cell_type": "code",
   "execution_count": 45,
   "metadata": {},
   "outputs": [
    {
     "data": {
      "text/plain": [
       "'1. Title: Boston Housing Data\\n\\n2. Sources:\\n   (a) Origin:  This dataset was taken from the StatLib library which is\\n                maintained at Carnegie Mellon University.\\n   (b) Creator:  Harrison, D. and Rubinfeld, D.L. \\'Hedonic prices and the \\n                 demand for clean air\\', J. Environ. Economics & Management,\\n                 vol.5, 81-102, 1978.\\n   (c) Date: July 7, 1993\\n\\n3. Past Usage:\\n   -   Used in Belsley, Kuh & Welsch, \\'Regression diagnostics ...\\', Wiley, \\n       1980.   N.B. Various transformations are used in the table on\\n       pages 244-261.\\n    -  Quinlan,R. (1993). Combining Instance-Based and Model-Based Learning.\\n       In Proceedings on the Tenth International Conference of Machine \\n       Learning, 236-243, University of Massachusetts, Amherst. Morgan\\n       Kaufmann.\\n\\n4. Relevant Information:\\n\\n   Concerns housing values in suburbs of Boston.\\n\\n5. Number of Instances: 506\\n\\n6. Number of Attributes: 13 continuous attributes (including \"class\"\\n                         attribute \"MEDV\"), 1 binary-valued attribute.\\n\\n7. Attribute Information:\\n\\n    1. CRIM      per capita crime rate by town\\n    2. ZN        proportion of residential land zoned for lots over \\n                 25,000 sq.ft.\\n    3. INDUS     proportion of non-retail business acres per town\\n    4. CHAS      Charles River dummy variable (= 1 if tract bounds \\n                 river; 0 otherwise)\\n    5. NOX       nitric oxides concentration (parts per 10 million)\\n    6. RM        average number of rooms per dwelling\\n    7. AGE       proportion of owner-occupied units built prior to 1940\\n    8. DIS       weighted distances to five Boston employment centres\\n    9. RAD       index of accessibility to radial highways\\n    10. TAX      full-value property-tax rate per $10,000\\n    11. PTRATIO  pupil-teacher ratio by town\\n    12. B        1000(Bk - 0.63)^2 where Bk is the proportion of blacks \\n                 by town\\n    13. LSTAT    % lower status of the population\\n    14. MEDV     Median value of owner-occupied homes in $1000\\'s\\n\\n8. Missing Attribute Values:  None.'"
      ]
     },
     "execution_count": 45,
     "metadata": {},
     "output_type": "execute_result"
    }
   ],
   "source": [
    "txt_file = open('housing.txt', 'r')\n",
    "txt_file.read()"
   ]
  },
  {
   "cell_type": "code",
   "execution_count": 51,
   "metadata": {},
   "outputs": [
    {
     "data": {
      "text/html": [
       "<div>\n",
       "<style scoped>\n",
       "    .dataframe tbody tr th:only-of-type {\n",
       "        vertical-align: middle;\n",
       "    }\n",
       "\n",
       "    .dataframe tbody tr th {\n",
       "        vertical-align: top;\n",
       "    }\n",
       "\n",
       "    .dataframe thead th {\n",
       "        text-align: right;\n",
       "    }\n",
       "</style>\n",
       "<table border=\"1\" class=\"dataframe\">\n",
       "  <thead>\n",
       "    <tr style=\"text-align: right;\">\n",
       "      <th></th>\n",
       "      <th>__v</th>\n",
       "      <th>_id</th>\n",
       "      <th>author</th>\n",
       "      <th>date</th>\n",
       "      <th>isPublished</th>\n",
       "      <th>name</th>\n",
       "      <th>price</th>\n",
       "      <th>tags</th>\n",
       "    </tr>\n",
       "  </thead>\n",
       "  <tbody>\n",
       "    <tr>\n",
       "      <th>2</th>\n",
       "      <td>0</td>\n",
       "      <td>5a68fde3f09ad7646ddec17e</td>\n",
       "      <td>Mosh</td>\n",
       "      <td>2018-01-24 21:42:59.605</td>\n",
       "      <td>True</td>\n",
       "      <td>ASP.NET MVC Course</td>\n",
       "      <td>15.0</td>\n",
       "      <td>[aspnet, backend]</td>\n",
       "    </tr>\n",
       "    <tr>\n",
       "      <th>3</th>\n",
       "      <td>0</td>\n",
       "      <td>5a68fdf95db93f6477053ddd</td>\n",
       "      <td>Mosh</td>\n",
       "      <td>2018-01-24 21:43:21.589</td>\n",
       "      <td>False</td>\n",
       "      <td>React Course</td>\n",
       "      <td>NaN</td>\n",
       "      <td>[react, frontend]</td>\n",
       "    </tr>\n",
       "    <tr>\n",
       "      <th>4</th>\n",
       "      <td>0</td>\n",
       "      <td>5a68fe2142ae6a6482c4c9cb</td>\n",
       "      <td>Jack</td>\n",
       "      <td>2018-01-24 21:44:01.075</td>\n",
       "      <td>True</td>\n",
       "      <td>Node.js Course by Jack</td>\n",
       "      <td>12.0</td>\n",
       "      <td>[node, backend]</td>\n",
       "    </tr>\n",
       "    <tr>\n",
       "      <th>5</th>\n",
       "      <td>0</td>\n",
       "      <td>5a68ff090c553064a218a547</td>\n",
       "      <td>Mary</td>\n",
       "      <td>2018-01-24 21:47:53.128</td>\n",
       "      <td>False</td>\n",
       "      <td>Node.js Course by Mary</td>\n",
       "      <td>12.0</td>\n",
       "      <td>[node, backend]</td>\n",
       "    </tr>\n",
       "    <tr>\n",
       "      <th>6</th>\n",
       "      <td>0</td>\n",
       "      <td>5a6900fff467be65019a9001</td>\n",
       "      <td>Mosh</td>\n",
       "      <td>2018-01-24 21:56:15.353</td>\n",
       "      <td>True</td>\n",
       "      <td>Angular Course</td>\n",
       "      <td>15.0</td>\n",
       "      <td>[angular, frontend]</td>\n",
       "    </tr>\n",
       "  </tbody>\n",
       "</table>\n",
       "</div>"
      ],
      "text/plain": [
       "   __v                       _id author                    date  isPublished  \\\n",
       "2    0  5a68fde3f09ad7646ddec17e   Mosh 2018-01-24 21:42:59.605         True   \n",
       "3    0  5a68fdf95db93f6477053ddd   Mosh 2018-01-24 21:43:21.589        False   \n",
       "4    0  5a68fe2142ae6a6482c4c9cb   Jack 2018-01-24 21:44:01.075         True   \n",
       "5    0  5a68ff090c553064a218a547   Mary 2018-01-24 21:47:53.128        False   \n",
       "6    0  5a6900fff467be65019a9001   Mosh 2018-01-24 21:56:15.353         True   \n",
       "\n",
       "                     name  price                 tags  \n",
       "2      ASP.NET MVC Course   15.0    [aspnet, backend]  \n",
       "3            React Course    NaN    [react, frontend]  \n",
       "4  Node.js Course by Jack   12.0      [node, backend]  \n",
       "5  Node.js Course by Mary   12.0      [node, backend]  \n",
       "6          Angular Course   15.0  [angular, frontend]  "
      ]
     },
     "execution_count": 51,
     "metadata": {},
     "output_type": "execute_result"
    }
   ],
   "source": [
    "df_json = pd.read_json('exercise-data.json')\n",
    "df_json.tail()"
   ]
  },
  {
   "cell_type": "code",
   "execution_count": 52,
   "metadata": {},
   "outputs": [],
   "source": [
    "import json"
   ]
  },
  {
   "cell_type": "code",
   "execution_count": 53,
   "metadata": {},
   "outputs": [
    {
     "name": "stdout",
     "output_type": "stream",
     "text": [
      "[{'_id': '5a68fdc3615eda645bc6bdec', 'tags': ['express', 'backend'], 'date': '2018-01-24T21:42:27.388Z', 'name': 'Express.js Course', 'author': 'Mosh', 'isPublished': True, 'price': 10, '__v': 0}, {'_id': '5a68fdd7bee8ea64649c2777', 'tags': ['node', 'backend'], 'date': '2018-01-24T21:42:47.912Z', 'name': 'Node.js Course', 'author': 'Mosh', 'isPublished': True, 'price': 20, '__v': 0}, {'_id': '5a68fde3f09ad7646ddec17e', 'tags': ['aspnet', 'backend'], 'date': '2018-01-24T21:42:59.605Z', 'name': 'ASP.NET MVC Course', 'author': 'Mosh', 'isPublished': True, 'price': 15, '__v': 0}, {'_id': '5a68fdf95db93f6477053ddd', 'tags': ['react', 'frontend'], 'date': '2018-01-24T21:43:21.589Z', 'name': 'React Course', 'author': 'Mosh', 'isPublished': False, '__v': 0}, {'_id': '5a68fe2142ae6a6482c4c9cb', 'tags': ['node', 'backend'], 'date': '2018-01-24T21:44:01.075Z', 'name': 'Node.js Course by Jack', 'author': 'Jack', 'isPublished': True, 'price': 12, '__v': 0}, {'_id': '5a68ff090c553064a218a547', 'tags': ['node', 'backend'], 'date': '2018-01-24T21:47:53.128Z', 'name': 'Node.js Course by Mary', 'author': 'Mary', 'isPublished': False, 'price': 12, '__v': 0}, {'_id': '5a6900fff467be65019a9001', 'tags': ['angular', 'frontend'], 'date': '2018-01-24T21:56:15.353Z', 'name': 'Angular Course', 'author': 'Mosh', 'isPublished': True, 'price': 15, '__v': 0}]\n"
     ]
    }
   ],
   "source": [
    "with open('exercise-data.json', 'r') as jsd:\n",
    "    df_json_data = json.load(jsd)\n",
    "    print(df_json_data)"
   ]
  },
  {
   "cell_type": "code",
   "execution_count": 54,
   "metadata": {},
   "outputs": [
    {
     "data": {
      "text/plain": [
       "[{'_id': '5a68fdc3615eda645bc6bdec',\n",
       "  'tags': ['express', 'backend'],\n",
       "  'date': '2018-01-24T21:42:27.388Z',\n",
       "  'name': 'Express.js Course',\n",
       "  'author': 'Mosh',\n",
       "  'isPublished': True,\n",
       "  'price': 10,\n",
       "  '__v': 0},\n",
       " {'_id': '5a68fdd7bee8ea64649c2777',\n",
       "  'tags': ['node', 'backend'],\n",
       "  'date': '2018-01-24T21:42:47.912Z',\n",
       "  'name': 'Node.js Course',\n",
       "  'author': 'Mosh',\n",
       "  'isPublished': True,\n",
       "  'price': 20,\n",
       "  '__v': 0},\n",
       " {'_id': '5a68fde3f09ad7646ddec17e',\n",
       "  'tags': ['aspnet', 'backend'],\n",
       "  'date': '2018-01-24T21:42:59.605Z',\n",
       "  'name': 'ASP.NET MVC Course',\n",
       "  'author': 'Mosh',\n",
       "  'isPublished': True,\n",
       "  'price': 15,\n",
       "  '__v': 0},\n",
       " {'_id': '5a68fdf95db93f6477053ddd',\n",
       "  'tags': ['react', 'frontend'],\n",
       "  'date': '2018-01-24T21:43:21.589Z',\n",
       "  'name': 'React Course',\n",
       "  'author': 'Mosh',\n",
       "  'isPublished': False,\n",
       "  '__v': 0},\n",
       " {'_id': '5a68fe2142ae6a6482c4c9cb',\n",
       "  'tags': ['node', 'backend'],\n",
       "  'date': '2018-01-24T21:44:01.075Z',\n",
       "  'name': 'Node.js Course by Jack',\n",
       "  'author': 'Jack',\n",
       "  'isPublished': True,\n",
       "  'price': 12,\n",
       "  '__v': 0},\n",
       " {'_id': '5a68ff090c553064a218a547',\n",
       "  'tags': ['node', 'backend'],\n",
       "  'date': '2018-01-24T21:47:53.128Z',\n",
       "  'name': 'Node.js Course by Mary',\n",
       "  'author': 'Mary',\n",
       "  'isPublished': False,\n",
       "  'price': 12,\n",
       "  '__v': 0},\n",
       " {'_id': '5a6900fff467be65019a9001',\n",
       "  'tags': ['angular', 'frontend'],\n",
       "  'date': '2018-01-24T21:56:15.353Z',\n",
       "  'name': 'Angular Course',\n",
       "  'author': 'Mosh',\n",
       "  'isPublished': True,\n",
       "  'price': 15,\n",
       "  '__v': 0}]"
      ]
     },
     "execution_count": 54,
     "metadata": {},
     "output_type": "execute_result"
    }
   ],
   "source": [
    "df_json_data"
   ]
  },
  {
   "cell_type": "code",
   "execution_count": null,
   "metadata": {},
   "outputs": [],
   "source": []
  },
  {
   "cell_type": "code",
   "execution_count": null,
   "metadata": {},
   "outputs": [],
   "source": []
  }
 ],
 "metadata": {
  "kernelspec": {
   "display_name": "Python 3",
   "language": "python",
   "name": "python3"
  },
  "language_info": {
   "codemirror_mode": {
    "name": "ipython",
    "version": 3
   },
   "file_extension": ".py",
   "mimetype": "text/x-python",
   "name": "python",
   "nbconvert_exporter": "python",
   "pygments_lexer": "ipython3",
   "version": "3.7.2"
  }
 },
 "nbformat": 4,
 "nbformat_minor": 2
}
